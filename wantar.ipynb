{
 "cells": [
  {
   "cell_type": "code",
   "execution_count": 2,
   "metadata": {},
   "outputs": [
    {
     "ename": "TypeError",
     "evalue": "kusillo() missing 1 required positional argument: 'N'",
     "output_type": "error",
     "traceback": [
      "\u001b[1;31m---------------------------------------------------------------------------\u001b[0m",
      "\u001b[1;31mTypeError\u001b[0m                                 Traceback (most recent call last)",
      "\u001b[1;32m<ipython-input-2-9210e1777cdf>\u001b[0m in \u001b[0;36m<module>\u001b[1;34m\u001b[0m\n\u001b[0;32m     21\u001b[0m \u001b[1;33m\u001b[0m\u001b[0m\n\u001b[0;32m     22\u001b[0m \u001b[1;33m\u001b[0m\u001b[0m\n\u001b[1;32m---> 23\u001b[1;33m \u001b[0mkusillo\u001b[0m\u001b[1;33m(\u001b[0m\u001b[1;33m)\u001b[0m\u001b[1;33m\u001b[0m\u001b[1;33m\u001b[0m\u001b[0m\n\u001b[0m\u001b[0;32m     24\u001b[0m \u001b[1;33m\u001b[0m\u001b[0m\n\u001b[0;32m     25\u001b[0m \u001b[1;33m\u001b[0m\u001b[0m\n",
      "\u001b[1;31mTypeError\u001b[0m: kusillo() missing 1 required positional argument: 'N'"
     ]
    }
   ],
   "source": [
    "import numpy as np\n",
    "from time import time\n",
    "\n",
    "def kusillo(N, l=0.75, b=1.0):\n",
    "    t1=time()\n",
    "    D=np.random.rand(N)*b/2\n",
    "    O=np.random.rand(N)*np.pi/2\n",
    "    D1=D[D<l/2]\n",
    "    O1=O[D<l/2]\n",
    "    Oc=np.arcsin(2*D1/l)\n",
    "    E=O1[O1>=Oc]\n",
    "    P=len(E)/len(D)\n",
    "    #print(f'estimado por monti: {P}')\n",
    "    #PR=2*l/(np.pi*b)\n",
    "    #print(f'valor real: {PR}')\n",
    "    pi=2*l/(P*b)\n",
    "    #print(f'el valor de pi es: {pi}')\n",
    "    t2=time()\n",
    "    t3=t2-t1\n",
    "    return pi, t3\n",
    "\n",
    "\n",
    "kusillo()\n",
    "\n",
    "\n",
    "\n",
    "\n"
   ]
  },
  {
   "cell_type": "code",
   "execution_count": null,
   "metadata": {},
   "outputs": [],
   "source": []
  }
 ],
 "metadata": {
  "kernelspec": {
   "display_name": "Python 3",
   "language": "python",
   "name": "python3"
  },
  "language_info": {
   "codemirror_mode": {
    "name": "ipython",
    "version": 3
   },
   "file_extension": ".py",
   "mimetype": "text/x-python",
   "name": "python",
   "nbconvert_exporter": "python",
   "pygments_lexer": "ipython3",
   "version": "3.8.3"
  }
 },
 "nbformat": 4,
 "nbformat_minor": 4
}
