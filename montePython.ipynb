{
 "cells": [
  {
   "cell_type": "code",
   "execution_count": 24,
   "metadata": {},
   "outputs": [],
   "source": [
    "#Como primer punto es generar una lista con valores aleatorios\n",
    "import numpy as np\n",
    "#numero de pruebas\n",
    "import matplotlib.pyplot as plt\n",
    "import time\n",
    "\n",
    "n=[1000, 10000, 100000, 1000000]\n",
    "\n",
    "error=[]\n",
    "tiempo=[]\n",
    "for i in n:\n",
    "    t1=time.time()\n",
    "    j= np.random.random((i, 2))   \n",
    "    z= np.sqrt(j[:,0]*j[:,0]+j[:,1]*j[:,1])\n",
    "    condi1=z<1\n",
    "    bb=condi1.sum()\n",
    "    pi= 4*bb/i\n",
    "    error.append(100*abs(pi-np.pi)/np.pi)\n",
    "    t2=time.time()\n",
    "    tiempo.append(t2-t1)\n",
    "    "
   ]
  },
  {
   "cell_type": "code",
   "execution_count": 25,
   "metadata": {},
   "outputs": [
    {
     "data": {
      "text/plain": [
       "[0.00398707389831543,\n",
       " 0.0009970664978027344,\n",
       " 0.009973287582397461,\n",
       " 0.06985902786254883]"
      ]
     },
     "execution_count": 25,
     "metadata": {},
     "output_type": "execute_result"
    }
   ],
   "source": [
    "tiempo"
   ]
  },
  {
   "cell_type": "code",
   "execution_count": 26,
   "metadata": {},
   "outputs": [
    {
     "data": {
      "image/png": "[encoded data removed]",
      "text/plain": [
       "<Figure size 432x288 with 1 Axes>"
      ]
     },
     "metadata": {
      "needs_background": "light"
     },
     "output_type": "display_data"
    }
   ],
   "source": [
    "plt.plot(tiempo,'bx')\n",
    "plt.grid()"
   ]
  },
  {
   "cell_type": "code",
   "execution_count": null,
   "metadata": {},
   "outputs": [],
   "source": []
  }
 ],
 "metadata": {
  "kernelspec": {
   "display_name": "Python 3",
   "language": "python",
   "name": "python3"
  },
  "language_info": {
   "codemirror_mode": {
    "name": "ipython",
    "version": 3
   },
   "file_extension": ".py",
   "mimetype": "text/x-python",
   "name": "python",
   "nbconvert_exporter": "python",
   "pygments_lexer": "ipython3",
   "version": "3.8.3"
  }
 },
 "nbformat": 4,
 "nbformat_minor": 4
}
